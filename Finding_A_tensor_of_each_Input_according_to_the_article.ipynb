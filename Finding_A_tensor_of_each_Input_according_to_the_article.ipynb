{
  "nbformat": 4,
  "nbformat_minor": 0,
  "metadata": {
    "colab": {
      "name": "Finding A tensor of each Input according to the article.ipynb",
      "provenance": [],
      "collapsed_sections": [],
      "toc_visible": true
    },
    "kernelspec": {
      "name": "python3",
      "display_name": "Python 3"
    }
  },
  "cells": [
    {
      "cell_type": "code",
      "metadata": {
        "id": "vV5L3azxlrzh"
      },
      "source": [
        "import numpy as np\n",
        "import pandas as pd\n",
        "import matplotlib.pyplot as plt"
      ],
      "execution_count": null,
      "outputs": []
    },
    {
      "cell_type": "markdown",
      "metadata": {
        "id": "lZrPVU554JSE"
      },
      "source": [
        "after i did the measurements (600000 times in total), i collect all the inputs into one big data set so it'll be easier to manipulate.\n",
        "\n",
        "the inputs are:\n",
        "\n",
        ">$1111111111\\\\1111000000\\\\1000111000\\\\0100100011\\\\0010010101\\\\0001001110$\n"
      ]
    },
    {
      "cell_type": "code",
      "metadata": {
        "id": "FJEvMi9jkcXe",
        "colab": {
          "base_uri": "https://localhost:8080/",
          "height": 34
        },
        "outputId": "57345908-26b4-4fa9-eb26-7fb44100f1d7"
      },
      "source": [
        "from google.colab import drive\n",
        "drive.mount('/content/drive')"
      ],
      "execution_count": null,
      "outputs": [
        {
          "output_type": "stream",
          "text": [
            "Mounted at /content/drive\n"
          ],
          "name": "stdout"
        }
      ]
    },
    {
      "cell_type": "code",
      "metadata": {
        "id": "xLa_wfh7rH12"
      },
      "source": [
        "raw_data_input_table = np.load('/content/drive/My Drive/Shared drive/all results.npy', allow_pickle=True)\n",
        "states_names = ['1111111111','1111000000','1000111000','0100100011','0010010101','0001001110']"
      ],
      "execution_count": null,
      "outputs": []
    },
    {
      "cell_type": "code",
      "metadata": {
        "id": "3n4vnPZ_rPtJ"
      },
      "source": [
        "result_table = []\n",
        "for i in range(6):\n",
        "      results = pd.DataFrame({\"q0\": raw_data_input_table[i][:,0], \"q1\": raw_data_input_table[i][:,1], \"q2\": raw_data_input_table[i][:,2],\n",
        "                        \"q3\": raw_data_input_table[i][:,3], \"q4\": raw_data_input_table[i][:,4], \"q5\": raw_data_input_table[i][:,5],\n",
        "                        \"q6\": raw_data_input_table[i][:,6], \"q7\": raw_data_input_table[i][:,7], \"q8\": raw_data_input_table[i][:,8], \"q9\": raw_data_input_table[i][:,9]})\n",
        "      result_table.append(results)"
      ],
      "execution_count": null,
      "outputs": []
    },
    {
      "cell_type": "markdown",
      "metadata": {
        "id": "z-I4cFyK4bch"
      },
      "source": [
        "here i've done an histogram to each input, so we can see how many have been 1 or zeros in total - and count them as well"
      ]
    },
    {
      "cell_type": "code",
      "metadata": {
        "id": "blEd8IKA4ApS",
        "colab": {
          "base_uri": "https://localhost:8080/",
          "height": 989
        },
        "outputId": "36464855-cb72-4c19-c97e-7cace8c0dcbc"
      },
      "source": [
        "fig = plt.figure(figsize = (15,20))\n",
        "ax = fig.gca()\n",
        "print(states_names[3])\n",
        "result_table[3].hist(ax = ax)\n",
        "result_table[3].apply(pd.value_counts)"
      ],
      "execution_count": null,
      "outputs": [
        {
          "output_type": "stream",
          "text": [
            "0100100011\n"
          ],
          "name": "stdout"
        },
        {
          "output_type": "stream",
          "text": [
            "/usr/local/lib/python3.6/dist-packages/ipykernel_launcher.py:4: UserWarning: To output multiple subplots, the figure containing the passed axes is being cleared\n",
            "  after removing the cwd from sys.path.\n"
          ],
          "name": "stderr"
        },
        {
          "output_type": "execute_result",
          "data": {
            "text/html": [
              "<div>\n",
              "<style scoped>\n",
              "    .dataframe tbody tr th:only-of-type {\n",
              "        vertical-align: middle;\n",
              "    }\n",
              "\n",
              "    .dataframe tbody tr th {\n",
              "        vertical-align: top;\n",
              "    }\n",
              "\n",
              "    .dataframe thead th {\n",
              "        text-align: right;\n",
              "    }\n",
              "</style>\n",
              "<table border=\"1\" class=\"dataframe\">\n",
              "  <thead>\n",
              "    <tr style=\"text-align: right;\">\n",
              "      <th></th>\n",
              "      <th>q0</th>\n",
              "      <th>q1</th>\n",
              "      <th>q2</th>\n",
              "      <th>q3</th>\n",
              "      <th>q4</th>\n",
              "      <th>q5</th>\n",
              "      <th>q6</th>\n",
              "      <th>q7</th>\n",
              "      <th>q8</th>\n",
              "      <th>q9</th>\n",
              "    </tr>\n",
              "  </thead>\n",
              "  <tbody>\n",
              "    <tr>\n",
              "      <th>0</th>\n",
              "      <td>581539</td>\n",
              "      <td>25596</td>\n",
              "      <td>551538</td>\n",
              "      <td>589666</td>\n",
              "      <td>80234</td>\n",
              "      <td>581890</td>\n",
              "      <td>595514</td>\n",
              "      <td>565655</td>\n",
              "      <td>35574</td>\n",
              "      <td>97987</td>\n",
              "    </tr>\n",
              "    <tr>\n",
              "      <th>1</th>\n",
              "      <td>18461</td>\n",
              "      <td>574404</td>\n",
              "      <td>48462</td>\n",
              "      <td>10334</td>\n",
              "      <td>519766</td>\n",
              "      <td>18110</td>\n",
              "      <td>4486</td>\n",
              "      <td>34345</td>\n",
              "      <td>564426</td>\n",
              "      <td>502013</td>\n",
              "    </tr>\n",
              "  </tbody>\n",
              "</table>\n",
              "</div>"
            ],
            "text/plain": [
              "       q0      q1      q2      q3  ...      q6      q7      q8      q9\n",
              "0  581539   25596  551538  589666  ...  595514  565655   35574   97987\n",
              "1   18461  574404   48462   10334  ...    4486   34345  564426  502013\n",
              "\n",
              "[2 rows x 10 columns]"
            ]
          },
          "metadata": {
            "tags": []
          },
          "execution_count": 221
        },
        {
          "output_type": "display_data",
          "data": {
            "image/png": "[encoded data removed]",
            "text/plain": [
              "<Figure size 1080x1440 with 12 Axes>"
            ]
          },
          "metadata": {
            "tags": [],
            "needs_background": "light"
          }
        }
      ]
    },
    {
      "cell_type": "markdown",
      "metadata": {
        "id": "FuKJCiKg55UG"
      },
      "source": [
        "now i did a peasron correlation:\n",
        "$CORR=\\frac{<q_{i}q_{j}>-<q_{i}><q_{j}>}{\\sqrt{(<q_{i}^{2}>-<q_{i}>^{2})(<q_{j}^{2}>-<q_{j}>^{2})}}$\n",
        "\n",
        "in other words, it's the covariance devided by the multiplication of standart deviation"
      ]
    },
    {
      "cell_type": "code",
      "metadata": {
        "id": "OuSPWfqO4le4",
        "colab": {
          "base_uri": "https://localhost:8080/",
          "height": 265
        },
        "outputId": "dc80c341-e9a2-4ceb-eb2c-f9e1f1666e38"
      },
      "source": [
        "plt.figure()\n",
        "res=result_table[3].corr()\n",
        "mydiag=np.diag(np.diag(res))\n",
        "plt.imshow(res-mydiag, cmap='jet')\n",
        "plt.colorbar()\n",
        "plt.show()"
      ],
      "execution_count": null,
      "outputs": [
        {
          "output_type": "display_data",
          "data": {
            "image/png": "[encoded data removed]",
            "text/plain": [
              "<Figure size 432x288 with 2 Axes>"
            ]
          },
          "metadata": {
            "tags": [],
            "needs_background": "light"
          }
        }
      ]
    },
    {
      "cell_type": "markdown",
      "metadata": {
        "id": "ImSrowoq7TAO"
      },
      "source": [
        "now what i'm gonna to do is calculation $\\varepsilon_{j}$ and $\\eta_{j}$ for the A tensor mitigitating error, and calculating the A tensor at the end for all the possible inputs for n qubits\n",
        "\n",
        "$A=\\begin{pmatrix}\n",
        "1-\\varepsilon_{0} & \\eta_{0} \\\\\n",
        "\\varepsilon_{0}  & 1-\\eta_{0} \\\\ \n",
        "\\end{pmatrix}\\otimes...\\otimes\\begin{pmatrix}\n",
        "1-\\varepsilon_{n} & \\eta_{n} \\\\\n",
        "\\varepsilon_{n}  & 1-\\eta_{n} \\\\ \n",
        "\\end{pmatrix}$"
      ]
    },
    {
      "cell_type": "markdown",
      "metadata": {
        "id": "E9Zrs6YjyzOi"
      },
      "source": [
        "in order to distinguish which error are we computing, i did a quantum simulation Rigetti where the qubits get the pure string result.\n",
        "this way i can compute the A tensor"
      ]
    },
    {
      "cell_type": "code",
      "metadata": {
        "id": "l6IbzKlp_Euj"
      },
      "source": [
        "simulation_data_input_table = np.load('/content/drive/My Drive/Shared drive/all simulation.npy', allow_pickle=True)\n"
      ],
      "execution_count": null,
      "outputs": []
    },
    {
      "cell_type": "code",
      "metadata": {
        "id": "cIxGpcNvxqXV",
        "colab": {
          "base_uri": "https://localhost:8080/",
          "height": 204
        },
        "outputId": "31d7a0f1-fbb8-4246-ee17-28d10b1594eb"
      },
      "source": [
        "np.unique(np.array(simulation_data_input_table), axis=1)"
      ],
      "execution_count": null,
      "outputs": [
        {
          "output_type": "execute_result",
          "data": {
            "text/plain": [
              "array([[[1, 1, 1, 1, 1, 1, 1, 1, 1, 1]],\n",
              "\n",
              "       [[1, 1, 1, 1, 0, 0, 0, 0, 0, 0]],\n",
              "\n",
              "       [[1, 0, 0, 0, 1, 1, 1, 0, 0, 0]],\n",
              "\n",
              "       [[0, 1, 0, 0, 1, 0, 0, 0, 1, 1]],\n",
              "\n",
              "       [[0, 0, 1, 0, 0, 1, 0, 1, 0, 1]],\n",
              "\n",
              "       [[0, 0, 0, 1, 0, 0, 1, 1, 1, 0]]])"
            ]
          },
          "metadata": {
            "tags": []
          },
          "execution_count": 7
        }
      ]
    },
    {
      "cell_type": "code",
      "metadata": {
        "id": "wAkJf--B5pgB"
      },
      "source": [
        "measurements_in_total=np.array(simulation_data_input_table).reshape([3600000,10])\n",
        "Error_eps = np.zeros([10,1])\n",
        "Error_eta = np.zeros([10,1])\n",
        "for i in range(6):\n",
        "  for column in result_table[i].columns:\n",
        "    if simulation_data_input_table[i][0,result_table[i].columns.get_loc(column)] == 0:\n",
        "      Error_eps[result_table[i].columns.get_loc(column)] = Error_eps[result_table[i].columns.get_loc(column)] + len(result_table[i][result_table[i][column] == 1][column])/len(measurements_in_total[:,i][measurements_in_total[:,i]==0])\n",
        "    else:\n",
        "      Error_eta[result_table[i].columns.get_loc(column)] = Error_eta[result_table[i].columns.get_loc(column)] + len(result_table[i][result_table[i][column] == 0][column])/len(measurements_in_total[:,i][measurements_in_total[:,i]==1])"
      ],
      "execution_count": null,
      "outputs": []
    },
    {
      "cell_type": "markdown",
      "metadata": {
        "id": "wiguULmuQgk8"
      },
      "source": [
        "what i did wrong is instead of looking at the total measurements(which is 6 multiplied by 600000), i look at each input individually...\n",
        "i need to devide by the amount of the total measurements, where i expect it to be 0/1."
      ]
    },
    {
      "cell_type": "code",
      "metadata": {
        "id": "FzvmEp3qOMUe",
        "colab": {
          "base_uri": "https://localhost:8080/",
          "height": 88
        },
        "outputId": "bf2d002d-f7f7-45f5-a7fb-d9ecc43b1d1e"
      },
      "source": [
        "print(Error_eps.T,\n",
        "      Error_eta.T)"
      ],
      "execution_count": null,
      "outputs": [
        {
          "output_type": "stream",
          "text": [
            "[[0.03089389 0.05996056 0.05822167 0.01503111 0.02957778 0.03894833\n",
            "  0.00936833 0.038275   0.02260556 0.05321944]] [[0.03201889 0.14017167 0.04363722 0.123465   0.10762222 0.06854167\n",
            "  0.24804556 0.07527889 0.08958833 0.16576667]]\n"
          ],
          "name": "stdout"
        }
      ]
    },
    {
      "cell_type": "markdown",
      "metadata": {
        "id": "w4hUX6OI911F"
      },
      "source": [
        "in order to see if $\\varepsilon_{j}$ and $\\eta_{j}$ are legitimate, i'll calculate the average of each qubit (all inputs) and see if they correspond to the error."
      ]
    },
    {
      "cell_type": "code",
      "metadata": {
        "id": "_JWxbtLm90y9",
        "colab": {
          "base_uri": "https://localhost:8080/",
          "height": 1000
        },
        "outputId": "f7131ad0-9e02-4980-a99c-0afd866d0e22"
      },
      "source": [
        "average_qbits = np.zeros([10,1])\n",
        "RME_before = np.zeros([6])\n",
        "RME = np.zeros([10,1])\n",
        "for i in range(6):\n",
        "  for column in result_table[i].columns:\n",
        "    average_qbits[result_table[i].columns.get_loc(column)] = result_table[i][column].mean()\n",
        "    RME[result_table[i].columns.get_loc(column)] = np.sqrt((simulation_data_input_table[i][0][result_table[i].columns.get_loc(column)]-average_qbits[result_table[i].columns.get_loc(column)])**2)\n",
        "  RME_before[i] = np.mean(RME)\n",
        "  print(simulation_data_input_table[i][0],\n",
        "  average_qbits, np.mean(RME))"
      ],
      "execution_count": null,
      "outputs": [
        {
          "output_type": "stream",
          "text": [
            "[1 1 1 1 1 1 1 1 1 1] [[0.971435  ]\n",
            " [0.76565333]\n",
            " [0.95217   ]\n",
            " [0.85104333]\n",
            " [0.96102833]\n",
            " [0.976995  ]\n",
            " [0.58131667]\n",
            " [0.87336667]\n",
            " [0.95673167]\n",
            " [0.83561   ]] 0.127465\n",
            "[1 1 1 1 0 0 0 0 0 0] [[0.96868167]\n",
            " [0.85649167]\n",
            " [0.95100333]\n",
            " [0.81701   ]\n",
            " [0.03295667]\n",
            " [0.08018   ]\n",
            " [0.01521833]\n",
            " [0.02859167]\n",
            " [0.00599167]\n",
            " [0.05185167]] 0.06216033333333333\n",
            "[1 0 0 0 1 1 1 0 0 0] [[0.96382667]\n",
            " [0.03227833]\n",
            " [0.07848667]\n",
            " [0.01463667]\n",
            " [0.84982833]\n",
            " [0.952575  ]\n",
            " [0.808225  ]\n",
            " [0.02899167]\n",
            " [0.00601667]\n",
            " [0.05093167]] 0.06368866666666667\n",
            "[0 1 0 0 1 0 0 0 1 1] [[0.03076833]\n",
            " [0.95734   ]\n",
            " [0.08077   ]\n",
            " [0.01722333]\n",
            " [0.86627667]\n",
            " [0.03018333]\n",
            " [0.00747667]\n",
            " [0.05724167]\n",
            " [0.94071   ]\n",
            " [0.83668833]] 0.062264833333333325\n",
            "[0 0 1 0 0 1 0 1 0 1] [[0.03108   ]\n",
            " [0.07236167]\n",
            " [0.965915  ]\n",
            " [0.01323333]\n",
            " [0.02763333]\n",
            " [0.864805  ]\n",
            " [0.00541   ]\n",
            " [0.95067   ]\n",
            " [0.05580833]\n",
            " [0.83040167]] 0.05937349999999999\n",
            "[0 0 0 1 0 0 1 1 1 0] [[0.03083333]\n",
            " [0.07524167]\n",
            " [0.01540833]\n",
            " [0.96155167]\n",
            " [0.02814333]\n",
            " [0.00648167]\n",
            " [0.86632167]\n",
            " [0.95012667]\n",
            " [0.83379333]\n",
            " [0.056875  ]] 0.06011899999999999\n"
          ],
          "name": "stdout"
        }
      ]
    },
    {
      "cell_type": "code",
      "metadata": {
        "id": "Zb8WlR30uqND",
        "colab": {
          "base_uri": "https://localhost:8080/",
          "height": 510
        },
        "outputId": "25be65b4-25d3-4070-e99f-b0876a0741fa"
      },
      "source": [
        "ten_qubits = []\n",
        "for i in range(10):\n",
        "    qbit = np.eye(2) + np.reshape(np.array([-Error_eps[i],Error_eta[i],Error_eps[i],-Error_eta[i]]), (2,2))\n",
        "    ten_qubits.append(qbit)\n",
        "ten_qubits = np.array(ten_qubits)\n",
        "ten_qubits"
      ],
      "execution_count": null,
      "outputs": [
        {
          "output_type": "execute_result",
          "data": {
            "text/plain": [
              "array([[[0.96910611, 0.03201889],\n",
              "        [0.03089389, 0.96798111]],\n",
              "\n",
              "       [[0.94003944, 0.14017167],\n",
              "        [0.05996056, 0.85982833]],\n",
              "\n",
              "       [[0.94177833, 0.04363722],\n",
              "        [0.05822167, 0.95636278]],\n",
              "\n",
              "       [[0.98496889, 0.123465  ],\n",
              "        [0.01503111, 0.876535  ]],\n",
              "\n",
              "       [[0.97042222, 0.10762222],\n",
              "        [0.02957778, 0.89237778]],\n",
              "\n",
              "       [[0.96105167, 0.06854167],\n",
              "        [0.03894833, 0.93145833]],\n",
              "\n",
              "       [[0.99063167, 0.24804556],\n",
              "        [0.00936833, 0.75195444]],\n",
              "\n",
              "       [[0.961725  , 0.07527889],\n",
              "        [0.038275  , 0.92472111]],\n",
              "\n",
              "       [[0.97739444, 0.08958833],\n",
              "        [0.02260556, 0.91041167]],\n",
              "\n",
              "       [[0.94678056, 0.16576667],\n",
              "        [0.05321944, 0.83423333]]])"
            ]
          },
          "metadata": {
            "tags": []
          },
          "execution_count": 11
        }
      ]
    },
    {
      "cell_type": "markdown",
      "metadata": {
        "id": "0CmflBpB1uZ8"
      },
      "source": [
        "______________________________________________\n",
        "a tensor product is computed by:\n",
        "$A\\otimes B=\\begin{pmatrix}\n",
        "a_{00} & a_{01} \\\\\n",
        "a_{10} & a_{11}\n",
        "\\end{pmatrix}\\otimes B = \\begin{pmatrix}\n",
        "a_{00}B & a_{01}B \\\\\n",
        "a_{10}B & a_{11}B\n",
        "\\end{pmatrix}$\n",
        "\n",
        "so the tensor product is actually gets increased by $2^{2\\cdot 2}=16$\n",
        "\n",
        "if we do $A \\otimes B \\otimes C$ then the dimension will be $2^{2\\cdot3}=2^{6}=64$ , and for N matrices the dimension will be $2^{2\\cdot N}$\n",
        "\n",
        "so if we are dealing with 10 qbits, then it'll be 1,048,576 elements in A, as the number of rows and columns are 1024 - very huge matrix.\n",
        "\n",
        "\\\n",
        "the next code i did the A tensor by doing the following:\n",
        "\n",
        "$(A_{0} \\otimes (A_{1} \\otimes( A_{2} \\otimes( A_{3} \\otimes( A_{4} \\otimes( A_{5} \\otimes (A_{6} \\otimes (A_{7} \\otimes( A_{8} \\otimes A_{9})))))))))$\n",
        "\n",
        "\n"
      ]
    },
    {
      "cell_type": "code",
      "metadata": {
        "id": "Y1tQZL8hK7J3",
        "colab": {
          "base_uri": "https://localhost:8080/",
          "height": 170
        },
        "outputId": "fa8240aa-60b8-4fb0-9ab3-a9d3797c1254"
      },
      "source": [
        "A_tensor = np.array([])\n",
        "for i in range(9,0,-1):\n",
        "  print(i)\n",
        "  if i == 9:\n",
        "    A_tensor = np.kron(ten_qubits[i-1],ten_qubits[i])\n",
        "  else:\n",
        "    A_tensor = np.kron(ten_qubits[i-1],A_tensor)"
      ],
      "execution_count": null,
      "outputs": [
        {
          "output_type": "stream",
          "text": [
            "9\n",
            "8\n",
            "7\n",
            "6\n",
            "5\n",
            "4\n",
            "3\n",
            "2\n",
            "1\n"
          ],
          "name": "stdout"
        }
      ]
    },
    {
      "cell_type": "code",
      "metadata": {
        "id": "jPO0MUt1N0wh",
        "colab": {
          "base_uri": "https://localhost:8080/",
          "height": 34
        },
        "outputId": "9e588ad0-ef8a-42af-fb6e-392c072c6ae2"
      },
      "source": [
        "A_tensor.shape"
      ],
      "execution_count": null,
      "outputs": [
        {
          "output_type": "execute_result",
          "data": {
            "text/plain": [
              "(1024, 1024)"
            ]
          },
          "metadata": {
            "tags": []
          },
          "execution_count": 230
        }
      ]
    },
    {
      "cell_type": "code",
      "metadata": {
        "id": "DEBXE4uKAk4G",
        "colab": {
          "base_uri": "https://localhost:8080/",
          "height": 238
        },
        "outputId": "f75a0b7d-d3ae-407d-b9b6-20fdbb556f2f"
      },
      "source": [
        "np.linalg.inv(A_tensor)"
      ],
      "execution_count": null,
      "outputs": [
        {
          "output_type": "execute_result",
          "data": {
            "text/plain": [
              "array([[ 1.50248825e+00, -2.98552527e-01, -1.47851157e-01, ...,\n",
              "        -2.46583734e-09, -1.22114828e-09,  2.42648755e-10],\n",
              "       [-9.58503898e-02,  1.70519039e+00,  9.43208110e-03, ...,\n",
              "         1.40836930e-08,  7.79024651e-11, -1.38589457e-09],\n",
              "       [-3.73068393e-02,  7.41307035e-03,  1.61303257e+00, ...,\n",
              "         6.12268330e-11,  1.33225332e-08, -2.64725927e-09],\n",
              "       ...,\n",
              "       [-1.59167627e-13,  2.83161193e-12,  1.56627632e-14, ...,\n",
              "         3.17502414e+00,  1.75623117e-02, -3.12435716e-01],\n",
              "       [-6.19511415e-14,  1.23100262e-14,  2.67857613e-12, ...,\n",
              "         1.38029615e-02,  3.00342846e+00, -5.96797448e-01],\n",
              "       [ 3.95213809e-15, -7.03090296e-14, -1.70878252e-13, ...,\n",
              "        -7.88359675e-02, -1.91602023e-01,  3.40862389e+00]])"
            ]
          },
          "metadata": {
            "tags": []
          },
          "execution_count": 231
        }
      ]
    },
    {
      "cell_type": "code",
      "metadata": {
        "id": "mDHPfa3PKsX0",
        "colab": {
          "base_uri": "https://localhost:8080/",
          "height": 238
        },
        "outputId": "137597d6-8c7a-4777-fa5a-197f0368816d"
      },
      "source": [
        "np.dot(np.linalg.inv(A_tensor),A_tensor)"
      ],
      "execution_count": null,
      "outputs": [
        {
          "output_type": "execute_result",
          "data": {
            "text/plain": [
              "array([[ 1.00000000e+00,  8.41516279e-17, -9.15667847e-18, ...,\n",
              "         8.78875307e-23,  3.41390056e-23,  7.57817510e-24],\n",
              "       [-3.11898795e-18,  1.00000000e+00,  8.40926700e-19, ...,\n",
              "        -7.06466986e-23, -3.54430242e-25, -8.51672468e-24],\n",
              "       [ 3.38644260e-18, -6.27922663e-19,  1.00000000e+00, ...,\n",
              "        -1.10205636e-24, -9.41935863e-23, -1.11730551e-23],\n",
              "       ...,\n",
              "       [ 2.32551878e-28,  3.29466956e-27,  8.99660215e-29, ...,\n",
              "         1.00000000e+00, -1.53243939e-18,  2.76585394e-17],\n",
              "       [ 7.45394281e-28,  3.14424029e-29,  1.30624608e-26, ...,\n",
              "         4.13509214e-19,  1.00000000e+00,  2.66240698e-18],\n",
              "       [ 3.86240017e-29,  5.79799017e-28, -7.85795519e-28, ...,\n",
              "        -2.33456785e-18,  1.10234052e-17,  1.00000000e+00]])"
            ]
          },
          "metadata": {
            "tags": []
          },
          "execution_count": 232
        }
      ]
    },
    {
      "cell_type": "markdown",
      "metadata": {
        "id": "-O5qX6ySPvz3"
      },
      "source": [
        "in order to make a reversable of this tensor, there's a nice property of the kronecker product:\n",
        "$(A \\otimes B)^{-1} = A^{-1} \\otimes B^{-1}$\n",
        "\n",
        "for 3 matrices:\n",
        "\n",
        "$(A \\otimes B \\otimes C)^{-1} = A^{-1} \\otimes B^{-1} \\otimes C^{-1}$ \n",
        "and so on...\n",
        "\n",
        "so what am i going to do is first reverse each matrix individually, and then i'll do a product.\n",
        "______________________________________________\n"
      ]
    },
    {
      "cell_type": "code",
      "metadata": {
        "id": "Q0CrHPQtQj9G",
        "colab": {
          "base_uri": "https://localhost:8080/",
          "height": 510
        },
        "outputId": "4e4a15d8-f743-487a-8792-f0d1b9c6db86"
      },
      "source": [
        "ten_qubits_reverse = np.array(ten_qubits)\n",
        "for i in range(10):\n",
        "  ten_qubits_reverse[i] = np.linalg.inv(ten_qubits[i])\n",
        "ten_qubits_reverse\n",
        "with open('A tensor.npy', 'wb') as f:\n",
        "    np.save(f, ten_qubits_reverse)\n",
        "ten_qubits_reverse*ten_qubits"
      ],
      "execution_count": null,
      "outputs": [
        {
          "output_type": "execute_result",
          "data": {
            "text/plain": [
              "array([[[ 1.00105560e+00, -1.09403823e-03],\n",
              "        [-1.01850964e-03,  1.00105560e+00]],\n",
              "\n",
              "       [[ 1.01050770e+00, -2.45641801e-02],\n",
              "        [-4.49482817e-03,  1.01050770e+00]],\n",
              "\n",
              "       [[ 1.00282877e+00, -2.12016479e-03],\n",
              "        [-3.77419809e-03,  1.00282877e+00]],\n",
              "\n",
              "       [[ 1.00215416e+00, -1.76941816e-02],\n",
              "        [-2.62255695e-04,  1.00215416e+00]],\n",
              "\n",
              "       [[ 1.00368941e+00, -1.34243657e-02],\n",
              "        [-1.01396029e-03,  1.00368941e+00]],\n",
              "\n",
              "       [[ 1.00299110e+00, -5.26376183e-03],\n",
              "        [-1.69967022e-03,  1.00299110e+00]],\n",
              "\n",
              "       [[ 1.00312930e+00, -8.28544955e-02],\n",
              "        [-1.18189215e-04,  1.00312930e+00]],\n",
              "\n",
              "       [[ 1.00325039e+00, -6.39284333e-03],\n",
              "        [-1.65263924e-03,  1.00325039e+00]],\n",
              "\n",
              "       [[ 1.00228112e+00, -9.04034042e-03],\n",
              "        [-5.75588674e-04,  1.00228112e+00]],\n",
              "\n",
              "       [[ 1.01129559e+00, -3.51832255e-02],\n",
              "        [-3.62645186e-03,  1.01129559e+00]]])"
            ]
          },
          "metadata": {
            "tags": []
          },
          "execution_count": 13
        }
      ]
    },
    {
      "cell_type": "markdown",
      "metadata": {
        "id": "pnBsFeXAqRLC"
      },
      "source": [
        "______________________________________________\n",
        "\n",
        "is it ok that it's almost an I matrix?"
      ]
    },
    {
      "cell_type": "code",
      "metadata": {
        "id": "uj3-RM0ARbUo",
        "colab": {
          "base_uri": "https://localhost:8080/",
          "height": 170
        },
        "outputId": "3ac0685e-2d71-43a1-eca8-fbb6b3a3cb0d"
      },
      "source": [
        "A_tensor_inverse = np.array([])\n",
        "for i in range(9,0,-1):\n",
        "  print(i)\n",
        "  if i == 9:\n",
        "    A_tensor_inverse = np.kron(ten_qubits_reverse[i-1],ten_qubits_reverse[i])\n",
        "  else:\n",
        "    A_tensor_inverse = np.kron(ten_qubits_reverse[i-1],A_tensor_inverse)"
      ],
      "execution_count": null,
      "outputs": [
        {
          "output_type": "stream",
          "text": [
            "9\n",
            "8\n",
            "7\n",
            "6\n",
            "5\n",
            "4\n",
            "3\n",
            "2\n",
            "1\n"
          ],
          "name": "stdout"
        }
      ]
    },
    {
      "cell_type": "code",
      "metadata": {
        "id": "9gCab7GqSLDd",
        "colab": {
          "base_uri": "https://localhost:8080/",
          "height": 34
        },
        "outputId": "12ce922f-5127-449b-b81f-2ff7fd80e938"
      },
      "source": [
        "A_tensor_inverse.shape"
      ],
      "execution_count": null,
      "outputs": [
        {
          "output_type": "execute_result",
          "data": {
            "text/plain": [
              "(1024, 1024)"
            ]
          },
          "metadata": {
            "tags": []
          },
          "execution_count": 235
        }
      ]
    },
    {
      "cell_type": "code",
      "metadata": {
        "id": "0-tbIznVzeNN",
        "colab": {
          "base_uri": "https://localhost:8080/",
          "height": 238
        },
        "outputId": "e7d749a0-1afb-440b-8104-0eb951601261"
      },
      "source": [
        "np.dot(A_tensor,A_tensor_inverse)"
      ],
      "execution_count": null,
      "outputs": [
        {
          "output_type": "execute_result",
          "data": {
            "text/plain": [
              "array([[ 1.00000000e+00, -1.24052580e-16, -9.50185904e-18, ...,\n",
              "         3.53546574e-24,  1.08122660e-24, -4.90637009e-25],\n",
              "       [-1.69343988e-18,  1.00000000e+00, -7.78103637e-19, ...,\n",
              "        -2.09104252e-24, -8.86246732e-26,  6.25734527e-25],\n",
              "       [ 1.08258735e-17, -8.14120440e-19,  1.00000000e+00, ...,\n",
              "         5.02021087e-26, -1.39924023e-23,  1.61867447e-24],\n",
              "       ...,\n",
              "       [ 1.69281954e-28,  1.44910792e-28, -1.21535440e-30, ...,\n",
              "         1.00000000e+00,  4.57322627e-20, -9.16215211e-18],\n",
              "       [ 1.26797489e-30, -7.43166816e-30, -1.03043883e-28, ...,\n",
              "        -9.97347248e-19,  1.00000000e+00,  1.85725022e-18],\n",
              "       [ 1.77871506e-30,  6.01246236e-29,  1.32636759e-29, ...,\n",
              "         2.71163687e-18,  8.84522000e-18,  1.00000000e+00]])"
            ]
          },
          "metadata": {
            "tags": []
          },
          "execution_count": 236
        }
      ]
    },
    {
      "cell_type": "markdown",
      "metadata": {
        "id": "l96u9zKO7FJe"
      },
      "source": [
        "______________________________________________\n"
      ]
    },
    {
      "cell_type": "code",
      "metadata": {
        "id": "8WbdSCzn2lSz",
        "colab": {
          "base_uri": "https://localhost:8080/",
          "height": 1000
        },
        "outputId": "20553266-1d5d-46a8-d1b7-4aa859d5ee02"
      },
      "source": [
        "RME_after = np.zeros([6])\n",
        "RME = np.zeros([10,1])\n",
        "average_qbits = np.zeros([10,1])\n",
        "Z=np.array([[0,0],[0,1]])\n",
        "for i in range(6):\n",
        "  for column in result_table[i].columns:\n",
        "    ii = result_table[i].columns.get_loc(column)\n",
        "    Sij=np.array([result_table[i][column][result_table[i][column] == 0 ].count(),result_table[i][column][result_table[i][column] == 1 ].count()])\n",
        "    average_qbits[ii] = np.dot(np.array([1,1]),np.dot(Z,np.dot(ten_qubits_reverse[ii],Sij)))/600000\n",
        "    RME[ii] = np.sqrt((simulation_data_input_table[i][0][ii]-average_qbits[ii])**2)\n",
        "  RME_after[i] = np.mean(RME)\n",
        "  print(simulation_data_input_table[i][0],\n",
        "  average_qbits, np.mean(RME))"
      ],
      "execution_count": null,
      "outputs": [
        {
          "output_type": "stream",
          "text": [
            "[1 1 1 1 1 1 1 1 1 1] [[1.00368577]\n",
            " [0.88226179]\n",
            " [0.99533172]\n",
            " [0.97041027]\n",
            " [1.07956717]\n",
            " [1.0510209 ]\n",
            " [0.77021146]\n",
            " [0.94206704]\n",
            " [1.05217355]\n",
            " [1.00176267]] 0.06279277849064717\n",
            "[1 1 1 1 0 0 0 0 0 0] [[ 1.00074759]\n",
            " [ 0.99582848]\n",
            " [ 0.99403274]\n",
            " [ 0.93090571]\n",
            " [ 0.00391619]\n",
            " [ 0.04619743]\n",
            " [ 0.00787787]\n",
            " [-0.01092377]\n",
            " [-0.01871342]\n",
            " [-0.00175128]] 0.016936063265875018\n",
            "[1 0 0 0 1 1 1 0 0 0] [[ 9.95566641e-01]\n",
            " [-3.46084978e-02]\n",
            " [ 2.25632696e-02]\n",
            " [-4.57855675e-04]\n",
            " [ 9.50684464e-01]\n",
            " [ 1.02365987e+00]\n",
            " [ 1.07577647e+00]\n",
            " [-1.04725298e-02]\n",
            " [-1.86852610e-02]\n",
            " [-2.92924084e-03]] 0.024290188754497746\n",
            "[0 1 0 0 1 0 0 0 1 1] [[-1.33984919e-04]\n",
            " [ 1.12190973e+00]\n",
            " [ 2.51055575e-02]\n",
            " [ 2.54464576e-03]\n",
            " [ 9.69748364e-01]\n",
            " [-9.82061826e-03]\n",
            " [-2.54740378e-03]\n",
            " [ 2.13962997e-02]\n",
            " [ 1.03412720e+00]\n",
            " [ 1.00314335e+00]] 0.02509804239407522\n",
            "[0 0 1 0 0 1 0 1 0 1] [[ 1.98605964e-04]\n",
            " [ 1.55039513e-02]\n",
            " [ 1.01063555e+00]\n",
            " [-2.08679009e-03]\n",
            " [-2.25364447e-03]\n",
            " [ 9.25319231e-01]\n",
            " [-5.33047047e-03]\n",
            " [ 1.02927295e+00]\n",
            " [ 3.73986813e-02]\n",
            " [ 9.95093984e-01]] 0.01822674218189003\n",
            "[0 0 0 1 0 0 1 1 1 0] [[-6.46210450e-05]\n",
            " [ 1.91045464e-02]\n",
            " [-4.76688271e-02]\n",
            " [ 1.09868402e+00]\n",
            " [-1.66254572e-03]\n",
            " [-3.63768100e-02]\n",
            " [ 1.15401207e+00]\n",
            " [ 1.02866001e+00]\n",
            " [ 9.13699250e-01]\n",
            " [ 4.68052567e-03]] 0.047721472438743695\n"
          ],
          "name": "stdout"
        }
      ]
    },
    {
      "cell_type": "code",
      "metadata": {
        "id": "i004eGL56X5E",
        "colab": {
          "base_uri": "https://localhost:8080/",
          "height": 286
        },
        "outputId": "4f58d58c-0682-477e-f894-09fdb66a325d"
      },
      "source": [
        "RME_compare = pd.DataFrame(data={'before RME': RME_before.T.tolist(), 'after RME': RME_after.T.tolist()})\n",
        "RME_compare.plot(style='o')\n",
        "plt.ylim([0,0.3])"
      ],
      "execution_count": null,
      "outputs": [
        {
          "output_type": "execute_result",
          "data": {
            "text/plain": [
              "(0.0, 0.3)"
            ]
          },
          "metadata": {
            "tags": []
          },
          "execution_count": 238
        },
        {
          "output_type": "display_data",
          "data": {
            "image/png": "[encoded data removed]",
            "text/plain": [
              "<Figure size 432x288 with 1 Axes>"
            ]
          },
          "metadata": {
            "tags": [],
            "needs_background": "light"
          }
        }
      ]
    },
    {
      "cell_type": "markdown",
      "metadata": {
        "id": "furspbqP7OFa"
      },
      "source": [
        "from here we can see that even if i take all the measurements and agitate them - it won't make an overfitting... is there something wrong with my calculation?"
      ]
    },
    {
      "cell_type": "markdown",
      "metadata": {
        "id": "5XMvgDGYhjZT"
      },
      "source": [
        "***all the calculations are right for the whole 600,000 measurements. now we can try to build a machine learning model of A reverse (by the article we can fix the average observation as well...) out of 300,000 of these \"rows\". this group will be called a train-group.***"
      ]
    },
    {
      "cell_type": "code",
      "metadata": {
        "id": "q-eNkGDixJiu",
        "colab": {
          "base_uri": "https://localhost:8080/",
          "height": 248
        },
        "outputId": "91df9ab2-c8cb-4055-f7b6-c6e28ea63d92"
      },
      "source": [
        "measurements_in_total_300000=np.array(simulation_data_input_table)[:,:300000].reshape([1800000,10])\n",
        "Error_eps = np.zeros([10,1])\n",
        "Error_eta = np.zeros([10,1])\n",
        "for i in range(6):\n",
        "  result_table_300000 = result_table[i][:300000]\n",
        "  for column in result_table[i].columns:\n",
        "    if simulation_data_input_table[i][0,result_table_300000.columns.get_loc(column)] == 0:\n",
        "      Error_eps[result_table_300000.columns.get_loc(column)] = Error_eps[result_table_300000.columns.get_loc(column)] + len(result_table_300000[result_table_300000[column] == 1][column])/len(measurements_in_total_300000[:,i][measurements_in_total_300000[:,i]==0])\n",
        "    else:\n",
        "      Error_eta[result_table_300000.columns.get_loc(column)] = Error_eta[result_table_300000.columns.get_loc(column)] + len(result_table_300000[result_table_300000[column] == 0][column])/len(measurements_in_total_300000[:,i][measurements_in_total_300000[:,i]==1])"
      ],
      "execution_count": null,
      "outputs": [
        {
          "output_type": "error",
          "ename": "NameError",
          "evalue": "ignored",
          "traceback": [
            "\u001b[0;31m---------------------------------------------------------------------------\u001b[0m",
            "\u001b[0;31mNameError\u001b[0m                                 Traceback (most recent call last)",
            "\u001b[0;32m<ipython-input-1-2d476c42e825>\u001b[0m in \u001b[0;36m<module>\u001b[0;34m()\u001b[0m\n\u001b[0;32m----> 1\u001b[0;31m \u001b[0mmeasurements_in_total_300000\u001b[0m\u001b[0;34m=\u001b[0m\u001b[0mnp\u001b[0m\u001b[0;34m.\u001b[0m\u001b[0marray\u001b[0m\u001b[0;34m(\u001b[0m\u001b[0msimulation_data_input_table\u001b[0m\u001b[0;34m)\u001b[0m\u001b[0;34m[\u001b[0m\u001b[0;34m:\u001b[0m\u001b[0;34m,\u001b[0m\u001b[0;34m:\u001b[0m\u001b[0;36m300000\u001b[0m\u001b[0;34m]\u001b[0m\u001b[0;34m.\u001b[0m\u001b[0mreshape\u001b[0m\u001b[0;34m(\u001b[0m\u001b[0;34m[\u001b[0m\u001b[0;36m1800000\u001b[0m\u001b[0;34m,\u001b[0m\u001b[0;36m10\u001b[0m\u001b[0;34m]\u001b[0m\u001b[0;34m)\u001b[0m\u001b[0;34m\u001b[0m\u001b[0;34m\u001b[0m\u001b[0m\n\u001b[0m\u001b[1;32m      2\u001b[0m \u001b[0mError_eps\u001b[0m \u001b[0;34m=\u001b[0m \u001b[0mnp\u001b[0m\u001b[0;34m.\u001b[0m\u001b[0mzeros\u001b[0m\u001b[0;34m(\u001b[0m\u001b[0;34m[\u001b[0m\u001b[0;36m10\u001b[0m\u001b[0;34m,\u001b[0m\u001b[0;36m1\u001b[0m\u001b[0;34m]\u001b[0m\u001b[0;34m)\u001b[0m\u001b[0;34m\u001b[0m\u001b[0;34m\u001b[0m\u001b[0m\n\u001b[1;32m      3\u001b[0m \u001b[0mError_eta\u001b[0m \u001b[0;34m=\u001b[0m \u001b[0mnp\u001b[0m\u001b[0;34m.\u001b[0m\u001b[0mzeros\u001b[0m\u001b[0;34m(\u001b[0m\u001b[0;34m[\u001b[0m\u001b[0;36m10\u001b[0m\u001b[0;34m,\u001b[0m\u001b[0;36m1\u001b[0m\u001b[0;34m]\u001b[0m\u001b[0;34m)\u001b[0m\u001b[0;34m\u001b[0m\u001b[0;34m\u001b[0m\u001b[0m\n\u001b[1;32m      4\u001b[0m \u001b[0;32mfor\u001b[0m \u001b[0mi\u001b[0m \u001b[0;32min\u001b[0m \u001b[0mrange\u001b[0m\u001b[0;34m(\u001b[0m\u001b[0;36m6\u001b[0m\u001b[0;34m)\u001b[0m\u001b[0;34m:\u001b[0m\u001b[0;34m\u001b[0m\u001b[0;34m\u001b[0m\u001b[0m\n\u001b[1;32m      5\u001b[0m   \u001b[0mresult_table_300000\u001b[0m \u001b[0;34m=\u001b[0m \u001b[0mresult_table\u001b[0m\u001b[0;34m[\u001b[0m\u001b[0mi\u001b[0m\u001b[0;34m]\u001b[0m\u001b[0;34m[\u001b[0m\u001b[0;34m:\u001b[0m\u001b[0;36m300000\u001b[0m\u001b[0;34m]\u001b[0m\u001b[0;34m\u001b[0m\u001b[0;34m\u001b[0m\u001b[0m\n",
            "\u001b[0;31mNameError\u001b[0m: name 'np' is not defined"
          ]
        }
      ]
    },
    {
      "cell_type": "code",
      "metadata": {
        "id": "mfSkmKC2il9W",
        "colab": {
          "base_uri": "https://localhost:8080/",
          "height": 88
        },
        "outputId": "17240c3f-1a2c-450e-ab44-03b812dca158"
      },
      "source": [
        "print(Error_eps.T,\n",
        "      Error_eta.T)"
      ],
      "execution_count": null,
      "outputs": [
        {
          "output_type": "stream",
          "text": [
            "[[0.02966111 0.05987444 0.05747667 0.01520889 0.02983556 0.03847\n",
            "  0.00933    0.03844333 0.02285111 0.05449889]] [[0.03123111 0.13644333 0.04358111 0.12392333 0.10167111 0.06471\n",
            "  0.23148444 0.07520444 0.08874333 0.16519333]]\n"
          ],
          "name": "stdout"
        }
      ]
    },
    {
      "cell_type": "code",
      "metadata": {
        "id": "JNQ0UmFmjCYW",
        "colab": {
          "base_uri": "https://localhost:8080/",
          "height": 510
        },
        "outputId": "965feec5-60c5-4a94-c816-6d8b6c30fe94"
      },
      "source": [
        "ten_qubits = []\n",
        "for i in range(10):\n",
        "    qbit = np.eye(2) + np.reshape(np.array([-Error_eps[i],Error_eta[i],Error_eps[i],-Error_eta[i]]), (2,2))\n",
        "    ten_qubits.append(qbit)\n",
        "ten_qubits = np.array(ten_qubits)\n",
        "ten_qubits"
      ],
      "execution_count": null,
      "outputs": [
        {
          "output_type": "execute_result",
          "data": {
            "text/plain": [
              "array([[[0.97033889, 0.03123111],\n",
              "        [0.02966111, 0.96876889]],\n",
              "\n",
              "       [[0.94012556, 0.13644333],\n",
              "        [0.05987444, 0.86355667]],\n",
              "\n",
              "       [[0.94252333, 0.04358111],\n",
              "        [0.05747667, 0.95641889]],\n",
              "\n",
              "       [[0.98479111, 0.12392333],\n",
              "        [0.01520889, 0.87607667]],\n",
              "\n",
              "       [[0.97016444, 0.10167111],\n",
              "        [0.02983556, 0.89832889]],\n",
              "\n",
              "       [[0.96153   , 0.06471   ],\n",
              "        [0.03847   , 0.93529   ]],\n",
              "\n",
              "       [[0.99067   , 0.23148444],\n",
              "        [0.00933   , 0.76851556]],\n",
              "\n",
              "       [[0.96155667, 0.07520444],\n",
              "        [0.03844333, 0.92479556]],\n",
              "\n",
              "       [[0.97714889, 0.08874333],\n",
              "        [0.02285111, 0.91125667]],\n",
              "\n",
              "       [[0.94550111, 0.16519333],\n",
              "        [0.05449889, 0.83480667]]])"
            ]
          },
          "metadata": {
            "tags": []
          },
          "execution_count": 199
        }
      ]
    },
    {
      "cell_type": "code",
      "metadata": {
        "id": "fbmYlxAuz0YC",
        "colab": {
          "base_uri": "https://localhost:8080/",
          "height": 510
        },
        "outputId": "655e7378-32ee-40d5-c813-17f101ba51c2"
      },
      "source": [
        "ten_qubits_reverse = np.array(ten_qubits)\n",
        "for i in range(10):\n",
        "  ten_qubits_reverse[i] = np.linalg.inv(ten_qubits[i])\n",
        "ten_qubits_reverse"
      ],
      "execution_count": null,
      "outputs": [
        {
          "output_type": "execute_result",
          "data": {
            "text/plain": [
              "array([[[ 1.03158435, -0.03325615],\n",
              "        [-0.03158435,  1.03325615]],\n",
              "\n",
              "       [[ 1.07450015, -0.16977274],\n",
              "        [-0.07450015,  1.16977274]],\n",
              "\n",
              "       [[ 1.06393811, -0.04848044],\n",
              "        [-0.06393811,  1.04848044]],\n",
              "\n",
              "       [[ 1.01766693, -0.14395165],\n",
              "        [-0.01766693,  1.14395165]],\n",
              "\n",
              "       [[ 1.03435323, -0.11706608],\n",
              "        [-0.03435323,  1.11706608]],\n",
              "\n",
              "       [[ 1.04289601, -0.07215495],\n",
              "        [-0.04289601,  1.07215495]],\n",
              "\n",
              "       [[ 1.01228949, -0.30491155],\n",
              "        [-0.01228949,  1.30491155]],\n",
              "\n",
              "       [[ 1.04337252, -0.08484713],\n",
              "        [-0.04337252,  1.08484713]],\n",
              "\n",
              "       [[ 1.02572149, -0.09989057],\n",
              "        [-0.02572149,  1.09989057]],\n",
              "\n",
              "       [[ 1.06984281, -0.21170279],\n",
              "        [-0.06984281,  1.21170279]]])"
            ]
          },
          "metadata": {
            "tags": []
          },
          "execution_count": 200
        }
      ]
    },
    {
      "cell_type": "code",
      "metadata": {
        "id": "ZwQ40QiM3CQl",
        "colab": {
          "base_uri": "https://localhost:8080/",
          "height": 170
        },
        "outputId": "b37ab739-9b74-4bf1-9a5c-8b3191792a62"
      },
      "source": [
        "A_tensor = np.array([])\n",
        "for i in range(9,0,-1):\n",
        "  print(i)\n",
        "  if i == 9:\n",
        "    A_tensor = np.kron(ten_qubits[i-1],ten_qubits[i])\n",
        "  else:\n",
        "    A_tensor = np.kron(ten_qubits[i-1],A_tensor)"
      ],
      "execution_count": null,
      "outputs": [
        {
          "output_type": "stream",
          "text": [
            "9\n",
            "8\n",
            "7\n",
            "6\n",
            "5\n",
            "4\n",
            "3\n",
            "2\n",
            "1\n"
          ],
          "name": "stdout"
        }
      ]
    },
    {
      "cell_type": "markdown",
      "metadata": {
        "id": "NOsFojbnVVpO"
      },
      "source": [
        "***our observation will be $\\langle \\sigma_{z} \\rangle$. for our machine learning modelling will take the last 300,000 for each input - calculate $\\langle \\sigma_{z} \\rangle$, and then will apply the A tensor i've described before (for first 300,000 measurements of each input) and see how it'll affect the observation.***"
      ]
    },
    {
      "cell_type": "code",
      "metadata": {
        "id": "5crj_C1bjcg6",
        "colab": {
          "base_uri": "https://localhost:8080/",
          "height": 1000
        },
        "outputId": "2f658110-6e16-4ea5-ddc4-5c23a1187aaa"
      },
      "source": [
        "RME_before = np.zeros([6])\n",
        "RME_before_std = np.zeros([6])\n",
        "RME = np.zeros([10,1])\n",
        "average_qbits = np.zeros([10,1])\n",
        "for i in range(6):\n",
        "  result_table_300000_last = result_table[i][300000:]\n",
        "  for column in result_table_300000_last.columns:\n",
        "    average_qbits[result_table_300000_last.columns.get_loc(column)] = result_table_300000_last[column].mean()\n",
        "    RME[result_table_300000_last.columns.get_loc(column)] = np.sqrt((simulation_data_input_table[i][0][result_table_300000_last.columns.get_loc(column)]-average_qbits[result_table_300000_last.columns.get_loc(column)])**2)\n",
        "  RME_before[i] = np.mean(RME)\n",
        "  RME_before_std[i] = np.std(RME)\n",
        "  print(simulation_data_input_table[i][0],\n",
        "  average_qbits, np.mean(RME))"
      ],
      "execution_count": null,
      "outputs": [
        {
          "output_type": "stream",
          "text": [
            "[1 1 1 1 1 1 1 1 1 1] [[0.97136]\n",
            " [0.75888]\n",
            " [0.95234]\n",
            " [0.84628]\n",
            " [0.96098]\n",
            " [0.97658]\n",
            " [0.54298]\n",
            " [0.87246]\n",
            " [0.9569 ]\n",
            " [0.83712]] 0.13241199999999997\n",
            "[1 1 1 1 0 0 0 0 0 0] [[0.96796]\n",
            " [0.8483 ]\n",
            " [0.95052]\n",
            " [0.81894]\n",
            " [0.03314]\n",
            " [0.08178]\n",
            " [0.01522]\n",
            " [0.02864]\n",
            " [0.00584]\n",
            " [0.04958]] 0.06284799999999999\n",
            "[1 0 0 0 1 1 1 0 0 0] [[0.96226]\n",
            " [0.03218]\n",
            " [0.07914]\n",
            " [0.01442]\n",
            " [0.84472]\n",
            " [0.95262]\n",
            " [0.80954]\n",
            " [0.02898]\n",
            " [0.0058 ]\n",
            " [0.05056]] 0.064194\n",
            "[0 1 0 0 1 0 0 0 1 1] [[0.032  ]\n",
            " [0.96112]\n",
            " [0.08264]\n",
            " [0.01748]\n",
            " [0.85358]\n",
            " [0.03002]\n",
            " [0.00772]\n",
            " [0.0567 ]\n",
            " [0.9395 ]\n",
            " [0.83488]] 0.063748\n",
            "[0 0 1 0 0 1 0 1 0 1] [[0.0323 ]\n",
            " [0.07208]\n",
            " [0.96606]\n",
            " [0.01266]\n",
            " [0.02708]\n",
            " [0.85368]\n",
            " [0.00528]\n",
            " [0.9511 ]\n",
            " [0.05544]\n",
            " [0.82898]] 0.060501999999999986\n",
            "[0 0 0 1 0 0 1 1 1 0] [[0.03208]\n",
            " [0.07588]\n",
            " [0.01512]\n",
            " [0.96576]\n",
            " [0.02774]\n",
            " [0.00648]\n",
            " [0.85366]\n",
            " [0.95038]\n",
            " [0.8323 ]\n",
            " [0.05568]] 0.061087999999999996\n"
          ],
          "name": "stdout"
        }
      ]
    },
    {
      "cell_type": "markdown",
      "metadata": {
        "id": "bDiiKcTmrkLt"
      },
      "source": [
        "in the article we can \"fix\" the observation of tensor product by:\n",
        "\n",
        "$\\xi=M^{-1}\\sum_{i=1}^{M}\\prod_{j}^{n}\\langle{e}|O_{j}\\begin{bmatrix}\n",
        "1-\\varepsilon_{j} & \\eta_{j} \\\\\n",
        "\\varepsilon_{j}  & 1-\\eta_{j} \\\\ \n",
        "\\end{bmatrix}^{-1}|s_{j}^{i}\\rangle $\n",
        "\n",
        "if we consider our observable as the average of each qubit as i did in [24] , we can see how by this calculation the average will be much farther - closer to 0 or 1."
      ]
    },
    {
      "cell_type": "markdown",
      "metadata": {
        "id": "Sks7b-vcJiZL"
      },
      "source": [
        "to compare between the original observable and the fixed one, i calculated the mean-root-square-error before the fixation and after:\n",
        "\n",
        "$\\frac{\\sum_{i=1}^{n}\\sqrt{Y_{expected}^{2}-Y_{result}^{2}}}{n}$"
      ]
    },
    {
      "cell_type": "markdown",
      "metadata": {
        "id": "J2ISko0fjn4K"
      },
      "source": [
        "_____________________________________________________________\n",
        "now i'll write the things in more rigorous way. since the eigenvalues of Z are 1,-1 , i'll calculate the expectation value of these values , and the fixation will be not by the observable , but by the operator itself $O_{j}$ in the article... "
      ]
    },
    {
      "cell_type": "markdown",
      "metadata": {
        "id": "UtsJd-eylV2R"
      },
      "source": [
        "first i'm going to change the results from 0,1 to 1,-1 so it'll match the eigenvalues of $\\sigma_{z}$"
      ]
    },
    {
      "cell_type": "code",
      "metadata": {
        "id": "IYusr3uLlUoa"
      },
      "source": [
        "def initialM(i):\n",
        "  result_table_300000_last_x = result_table[i][300000:].copy()\n",
        "  simulation_data_input_table_x = simulation_data_input_table[i].copy()\n",
        "  simulation_data_input_table_x[simulation_data_input_table_x == 1] = -1\n",
        "  simulation_data_input_table_x[simulation_data_input_table_x == 0] = 1\n",
        "  result_table_300000_last_x[result_table_300000_last_x == 1] = -1\n",
        "  result_table_300000_last_x[result_table_300000_last_x == 0] = 1\n",
        "  return result_table_300000_last_x,simulation_data_input_table_x"
      ],
      "execution_count": null,
      "outputs": []
    },
    {
      "cell_type": "markdown",
      "metadata": {
        "id": "vKhi-T7Er7V7"
      },
      "source": [
        "after intial each input, first i see the $\\sigma_{z}$ before mitigation, and after that i apply the equation and check the result"
      ]
    },
    {
      "cell_type": "code",
      "metadata": {
        "id": "gyGx9excaBdm",
        "colab": {
          "base_uri": "https://localhost:8080/",
          "height": 1000
        },
        "outputId": "dfd5c4a3-e163-4556-e05a-ddf84d553627"
      },
      "source": [
        "RME_before = np.zeros([6])\n",
        "RME_before_std = np.zeros([6])\n",
        "RME = np.zeros([10,1])\n",
        "average_qbits = np.zeros([10,1])\n",
        "for i in range(6):\n",
        "  result_table_300000_last_x,simulation_data_input_table_x = initialM(i)\n",
        "  for column in result_table_300000_last_x.columns:\n",
        "    ii=result_table_300000_last_x.columns.get_loc(column)\n",
        "    average_qbits[ii] = result_table_300000_last_x[column].mean()\n",
        "    RME[result_table_300000_last_x.columns.get_loc(column)] = np.abs(simulation_data_input_table_x[0][ii]-average_qbits[ii])\n",
        "  RME_before[i] = np.mean(RME)\n",
        "  print(simulation_data_input_table_x[0],\n",
        "  average_qbits, np.mean(RME))"
      ],
      "execution_count": null,
      "outputs": [
        {
          "output_type": "stream",
          "text": [
            "[-1 -1 -1 -1 -1 -1 -1 -1 -1 -1] [[-0.94272]\n",
            " [-0.51776]\n",
            " [-0.90468]\n",
            " [-0.69256]\n",
            " [-0.92196]\n",
            " [-0.95316]\n",
            " [-0.08596]\n",
            " [-0.74492]\n",
            " [-0.9138 ]\n",
            " [-0.67424]] 0.26482399999999995\n",
            "[-1 -1 -1 -1  1  1  1  1  1  1] [[-0.93592]\n",
            " [-0.6966 ]\n",
            " [-0.90104]\n",
            " [-0.63788]\n",
            " [ 0.93372]\n",
            " [ 0.83644]\n",
            " [ 0.96956]\n",
            " [ 0.94272]\n",
            " [ 0.98832]\n",
            " [ 0.90084]] 0.12569600000000003\n",
            "[-1  1  1  1 -1 -1 -1  1  1  1] [[-0.92452]\n",
            " [ 0.93564]\n",
            " [ 0.84172]\n",
            " [ 0.97116]\n",
            " [-0.68944]\n",
            " [-0.90524]\n",
            " [-0.61908]\n",
            " [ 0.94204]\n",
            " [ 0.9884 ]\n",
            " [ 0.89888]] 0.128388\n",
            "[ 1 -1  1  1 -1  1  1  1 -1 -1] [[ 0.936  ]\n",
            " [-0.92224]\n",
            " [ 0.83472]\n",
            " [ 0.96504]\n",
            " [-0.70716]\n",
            " [ 0.93996]\n",
            " [ 0.98456]\n",
            " [ 0.8866 ]\n",
            " [-0.879  ]\n",
            " [-0.66976]] 0.127496\n",
            "[ 1  1 -1  1  1 -1  1 -1  1 -1] [[ 0.9354 ]\n",
            " [ 0.85584]\n",
            " [-0.93212]\n",
            " [ 0.97468]\n",
            " [ 0.94584]\n",
            " [-0.70736]\n",
            " [ 0.98944]\n",
            " [-0.9022 ]\n",
            " [ 0.88912]\n",
            " [-0.65796]] 0.121004\n",
            "[ 1  1  1 -1  1  1 -1 -1 -1  1] [[ 0.93584]\n",
            " [ 0.84824]\n",
            " [ 0.96976]\n",
            " [-0.93152]\n",
            " [ 0.94452]\n",
            " [ 0.98704]\n",
            " [-0.70732]\n",
            " [-0.90076]\n",
            " [-0.6646 ]\n",
            " [ 0.88864]] 0.12217600000000002\n"
          ],
          "name": "stdout"
        }
      ]
    },
    {
      "cell_type": "code",
      "metadata": {
        "id": "rle57AMa6_CP",
        "colab": {
          "base_uri": "https://localhost:8080/",
          "height": 1000
        },
        "outputId": "fa8fe591-1e47-49a9-baaf-94dab3dc161c"
      },
      "source": [
        "RME_after = np.zeros([6])\n",
        "RME_after_std = np.zeros([6])\n",
        "average_qbits = np.zeros([10,1])\n",
        "for i in range(6):\n",
        "  result_table_300000_last_x,simulation_data_input_table_x = initialM(i)\n",
        "  for column in result_table_300000_last_x.columns:\n",
        "    ii=result_table_300000_last_x.columns.get_loc(column)\n",
        "    #if (column=='q6'):\n",
        "    #  average_qbits[ii] = simulation_data_input_table_x[0][ii]\n",
        "    #else :\n",
        "    Z=np.array([[1,0],[0,-1]])\n",
        "    Sij=np.array([result_table_300000_last_x[column][result_table_300000_last_x[column] == 1 ].count(),result_table_300000_last_x[column][result_table_300000_last_x[column] == -1 ].count()])\n",
        "    average_qbits[ii] = np.dot(np.array([1,1]),np.dot(Z,np.dot(ten_qubits_reverse[ii],Sij)))/300000\n",
        "    RME[ii] = np.sqrt((simulation_data_input_table_x[0][result_table_300000_last_x.columns.get_loc(column)]-average_qbits[result_table_300000_last_x.columns.get_loc(column)])**2)\n",
        "  RME_after[i] = np.mean(RME)\n",
        "  print(simulation_data_input_table_x[0],\n",
        "  average_qbits, np.mean(RME))"
      ],
      "execution_count": null,
      "outputs": [
        {
          "output_type": "stream",
          "text": [
            "[-1 -1 -1 -1 -1 -1 -1 -1 -1 -1] [[-1.00551824]\n",
            " [-0.73950732]\n",
            " [-0.99092514]\n",
            " [-0.93077528]\n",
            " [-1.1442754 ]\n",
            " [-1.09208091]\n",
            " [-0.40584867]\n",
            " [-0.88190799]\n",
            " [-1.10275337]\n",
            " [-1.00592928]] 0.14015928063804273\n",
            "[-1 -1 -1 -1  1  1  1  1  1  1] [[-0.99827732]\n",
            " [-0.96203309]\n",
            " [-0.98687593]\n",
            " [-0.86725797]\n",
            " [ 0.9923904 ]\n",
            " [ 0.90341429]\n",
            " [ 0.98448337]\n",
            " [ 1.02212063]\n",
            " [ 1.03829582]\n",
            " [ 1.01260756]] 0.03782916373863691\n",
            "[-1  1  1  1 -1 -1 -1  1  1  1] [[-0.98613814]\n",
            " [ 1.06891889]\n",
            " [ 0.95180261]\n",
            " [ 1.00183278]\n",
            " [-0.87654738]\n",
            " [-1.03864767]\n",
            " [-1.10807488]\n",
            " [ 1.02135344]\n",
            " [ 1.03838587]\n",
            " [ 1.01009573]] 0.04728211224741078\n",
            "[ 1 -1  1  1 -1  1  1  1 -1 -1] [[ 0.99501891]\n",
            " [-1.24279082]\n",
            " [ 0.94401568]\n",
            " [ 0.99472367]\n",
            " [-0.89695053]\n",
            " [ 1.01884436]\n",
            " [ 1.00424139]\n",
            " [ 0.95880494]\n",
            " [-1.06358207]\n",
            " [-1.00018796]] 0.05401328672458845\n",
            "[ 1  1 -1  1  1 -1  1 -1  1 -1] [[ 0.99438001]\n",
            " [ 0.96962592]\n",
            " [-1.0214499 ]\n",
            " [ 1.00592167]\n",
            " [ 1.0063456 ]\n",
            " [-0.81800138]\n",
            " [ 1.01066933]\n",
            " [-1.05935438]\n",
            " [ 0.92663511]\n",
            " [-0.98506572]] 0.04100327485580944\n",
            "[ 1  1  1 -1  1  1 -1 -1 -1  1] [[ 0.99484854]\n",
            " [ 0.96016944]\n",
            " [ 1.09423668]\n",
            " [-1.20835565]\n",
            " [ 1.00482573]\n",
            " [ 1.07134096]\n",
            " [-1.2243047 ]\n",
            " [-1.05772975]\n",
            " [-0.82225085]\n",
            " [ 0.9969727 ]] 0.08865519342263346\n"
          ],
          "name": "stdout"
        }
      ]
    },
    {
      "cell_type": "code",
      "metadata": {
        "id": "DwrfjcjxVeJ0",
        "colab": {
          "base_uri": "https://localhost:8080/",
          "height": 286
        },
        "outputId": "3a2e4830-012f-459d-ec7f-2f8636f8385c"
      },
      "source": [
        "RME_compare = pd.DataFrame(data={'before RME': RME_before.T.tolist(), 'after RME': RME_after.T.tolist()})\n",
        "RME_compare.plot(style='o')\n",
        "plt.ylim([0,0.3])"
      ],
      "execution_count": null,
      "outputs": [
        {
          "output_type": "execute_result",
          "data": {
            "text/plain": [
              "(0.0, 0.3)"
            ]
          },
          "metadata": {
            "tags": []
          },
          "execution_count": 206
        },
        {
          "output_type": "display_data",
          "data": {
            "image/png": "[encoded data removed]",
            "text/plain": [
              "<Figure size 432x288 with 1 Axes>"
            ]
          },
          "metadata": {
            "tags": [],
            "needs_background": "light"
          }
        }
      ]
    },
    {
      "cell_type": "markdown",
      "metadata": {
        "id": "ELPcknM_9XOp"
      },
      "source": [
        "![image.png](data:image/png;base64,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)"
      ]
    },
    {
      "cell_type": "markdown",
      "metadata": {
        "id": "vdh6JZWVsL1l"
      },
      "source": [
        "in order to see if thde equation is right, i am gonna take the first measurements, then apply the mitigation - and if it's correct than we should get the exact estimation we wanna see."
      ]
    },
    {
      "cell_type": "code",
      "metadata": {
        "id": "EnA831F4Vzgm"
      },
      "source": [
        "def initialMfirst(i):\n",
        "  result_table_300000_last_x = result_table[i][:300000].copy()\n",
        "  simulation_data_input_table_x = simulation_data_input_table[i].copy()\n",
        "  simulation_data_input_table_x[simulation_data_input_table_x == 1] = -1\n",
        "  simulation_data_input_table_x[simulation_data_input_table_x == 0] = 1\n",
        "  result_table_300000_last_x[result_table_300000_last_x == 1] = -1\n",
        "  result_table_300000_last_x[result_table_300000_last_x == 0] = 1\n",
        "  return result_table_300000_last_x,simulation_data_input_table_x"
      ],
      "execution_count": null,
      "outputs": []
    },
    {
      "cell_type": "code",
      "metadata": {
        "id": "uUuOxx8uuP-s",
        "colab": {
          "base_uri": "https://localhost:8080/",
          "height": 1000
        },
        "outputId": "6480ebda-6182-4ae1-c33d-f53e7e33291c"
      },
      "source": [
        "RME_before = np.zeros([6])\n",
        "RME_before_std = np.zeros([6])\n",
        "RME = np.zeros([10,1])\n",
        "average_qbits = np.zeros([10,1])\n",
        "for i in range(6):\n",
        "  result_table_300000_last_x,simulation_data_input_table_x = initialMfirst(i)\n",
        "  for column in result_table_300000_last_x.columns:\n",
        "    ii=result_table_300000_last_x.columns.get_loc(column)\n",
        "    average_qbits[ii] = result_table_300000_last_x[column].mean()\n",
        "    RME[result_table_300000_last_x.columns.get_loc(column)] = np.abs(simulation_data_input_table_x[0][ii]-average_qbits[ii])\n",
        "  RME_before[i] = np.mean(RME)\n",
        "  print(simulation_data_input_table_x[0],\n",
        "  average_qbits, np.mean(RME))"
      ],
      "execution_count": null,
      "outputs": [
        {
          "output_type": "stream",
          "text": [
            "[-1 -1 -1 -1 -1 -1 -1 -1 -1 -1] [[-0.94302   ]\n",
            " [-0.54485333]\n",
            " [-0.904     ]\n",
            " [-0.71161333]\n",
            " [-0.92215333]\n",
            " [-0.95482   ]\n",
            " [-0.23930667]\n",
            " [-0.74854667]\n",
            " [-0.91312667]\n",
            " [-0.6682    ]] 0.24503600000000003\n",
            "[-1 -1 -1 -1  1  1  1  1  1  1] [[-0.93880667]\n",
            " [-0.72936667]\n",
            " [-0.90297333]\n",
            " [-0.63016   ]\n",
            " [ 0.93445333]\n",
            " [ 0.84284   ]\n",
            " [ 0.96956667]\n",
            " [ 0.94291333]\n",
            " [ 0.98771333]\n",
            " [ 0.89175333]] 0.12294533333333332\n",
            "[-1  1  1  1 -1 -1 -1  1  1  1] [[-0.93078667]\n",
            " [ 0.93524667]\n",
            " [ 0.84433333]\n",
            " [ 0.97029333]\n",
            " [-0.70987333]\n",
            " [-0.90506   ]\n",
            " [-0.61382   ]\n",
            " [ 0.94199333]\n",
            " [ 0.98753333]\n",
            " [ 0.89739333]] 0.12636666666666665\n",
            "[ 1 -1  1  1 -1  1  1  1 -1 -1] [[ 0.94092667]\n",
            " [-0.90712   ]\n",
            " [ 0.8422    ]\n",
            " [ 0.96606667]\n",
            " [-0.75794667]\n",
            " [ 0.93930667]\n",
            " [ 0.98553333]\n",
            " [ 0.88443333]\n",
            " [-0.88384   ]\n",
            " [-0.67699333]] 0.12156333333333333\n",
            "[ 1  1 -1  1  1 -1  1 -1  1 -1] [[ 0.94028   ]\n",
            " [ 0.85471333]\n",
            " [-0.93154   ]\n",
            " [ 0.97238667]\n",
            " [ 0.94362667]\n",
            " [-0.75186   ]\n",
            " [ 0.98892   ]\n",
            " [-0.90048   ]\n",
            " [ 0.88764667]\n",
            " [-0.66364667]] 0.11649000000000001\n",
            "[ 1  1  1 -1  1  1 -1 -1 -1  1] [[ 0.94082667]\n",
            " [ 0.85079333]\n",
            " [ 0.96860667]\n",
            " [-0.91468667]\n",
            " [ 0.94290667]\n",
            " [ 0.98703333]\n",
            " [-0.75796667]\n",
            " [-0.89974667]\n",
            " [-0.67057333]\n",
            " [ 0.88386   ]] 0.11830000000000003\n"
          ],
          "name": "stdout"
        }
      ]
    },
    {
      "cell_type": "code",
      "metadata": {
        "id": "DP-PTfYeseG7",
        "colab": {
          "base_uri": "https://localhost:8080/",
          "height": 1000
        },
        "outputId": "04352c1c-e3dd-46fc-f3e0-fb896aafc6a2"
      },
      "source": [
        "RME_after = np.zeros([6])\n",
        "RME_after_std = np.zeros([6])\n",
        "average_qbits = np.zeros([10,1])\n",
        "for i in range(6):\n",
        "  result_table_300000_last_x,simulation_data_input_table_x = initialMfirst(i)\n",
        "  for column in result_table_300000_last_x.columns:\n",
        "    ii=result_table_300000_last_x.columns.get_loc(column)\n",
        "    #if (column=='q6'):\n",
        "      #average_qbits[ii] = simulation_data_input_table_x[0][ii]\n",
        "    #else :\n",
        "    Z=np.array([[1,0],[0,-1]])\n",
        "    Sij=np.array([result_table_300000_last_x[column][result_table_300000_last_x[column] == 1 ].count(),result_table_300000_last_x[column][result_table_300000_last_x[column] == -1 ].count()])\n",
        "    average_qbits[ii] = np.dot(np.array([1,1]),np.dot(Z,np.dot(ten_qubits_reverse[ii],Sij)))/300000\n",
        "    RME[ii] = np.sqrt((simulation_data_input_table_x[0][result_table_300000_last_x.columns.get_loc(column)]-average_qbits[result_table_300000_last_x.columns.get_loc(column)])**2)\n",
        "  RME_after[i] = np.mean(RME)\n",
        "  print(simulation_data_input_table_x[0],\n",
        "  average_qbits, np.mean(RME))"
      ],
      "execution_count": null,
      "outputs": [
        {
          "output_type": "stream",
          "text": [
            "[-1 -1 -1 -1 -1 -1 -1 -1 -1 -1] [[-1.00583769]\n",
            " [-0.77321882]\n",
            " [-0.99016869]\n",
            " [-0.95290798]\n",
            " [-1.14449801]\n",
            " [-1.09393189]\n",
            " [-0.60783705]\n",
            " [-0.88599967]\n",
            " [-1.10199546]\n",
            " [-0.99818875]] 0.11379420793817774\n",
            "[-1 -1 -1 -1  1  1  1  1  1  1] [[-1.00135116]\n",
            " [-1.00280376]\n",
            " [-0.98902661]\n",
            " [-0.85829028]\n",
            " [ 0.99323477]\n",
            " [ 0.91055061]\n",
            " [ 0.98449215]\n",
            " [ 1.02233875]\n",
            " [ 1.03761295]\n",
            " [ 1.00096258]] 0.03294747858972526\n",
            "[-1  1  1  1 -1 -1 -1  1  1  1] [[-0.99281114]\n",
            " [ 1.06842948]\n",
            " [ 0.95470973]\n",
            " [ 1.00082604]\n",
            " [-0.90007471]\n",
            " [-1.03844696]\n",
            " [-1.1011464 ]\n",
            " [ 1.02130079]\n",
            " [ 1.03741034]\n",
            " [ 1.0081905 ]] 0.042815491827466245\n",
            "[ 1 -1  1  1 -1  1  1  1 -1 -1] [[ 1.00026503]\n",
            " [-1.22397742]\n",
            " [ 0.95233657]\n",
            " [ 0.99591627]\n",
            " [-0.95542728]\n",
            " [ 1.01811586]\n",
            " [ 1.00552346]\n",
            " [ 0.95636046]\n",
            " [-1.06903004]\n",
            " [-1.00945781]] 0.04663290265749962\n",
            "[ 1  1 -1  1  1 -1  1 -1  1 -1] [[ 0.99957643]\n",
            " [ 0.96822404]\n",
            " [-1.0208047 ]\n",
            " [ 1.00325769]\n",
            " [ 1.00379713]\n",
            " [-0.86762115]\n",
            " [ 1.00998438]\n",
            " [-1.05741384]\n",
            " [ 0.92497671]\n",
            " [-0.99235344]] 0.034250598071130754\n",
            "[ 1  1  1 -1  1  1 -1 -1 -1  1] [[ 1.00015854]\n",
            " [ 0.96334649]\n",
            " [ 1.09295369]\n",
            " [-1.18880174]\n",
            " [ 1.0029681 ]\n",
            " [ 1.07133353]\n",
            " [-1.29101654]\n",
            " [-1.05658648]\n",
            " [-0.8289745 ]\n",
            " [ 0.99084692]] 0.09206507242760818\n"
          ],
          "name": "stdout"
        }
      ]
    },
    {
      "cell_type": "code",
      "metadata": {
        "id": "RhemJlHisnqo",
        "colab": {
          "base_uri": "https://localhost:8080/",
          "height": 286
        },
        "outputId": "bbaae826-7010-41d1-a585-cfc7ad3e14c8"
      },
      "source": [
        "RME_compare = pd.DataFrame(data={'before RME': RME_before.T.tolist(), 'after RME': RME_after.T.tolist()})\n",
        "RME_compare.plot(style='o')\n",
        "plt.ylim([0,0.3])"
      ],
      "execution_count": null,
      "outputs": [
        {
          "output_type": "execute_result",
          "data": {
            "text/plain": [
              "(0.0, 0.3)"
            ]
          },
          "metadata": {
            "tags": []
          },
          "execution_count": 210
        },
        {
          "output_type": "display_data",
          "data": {
            "image/png": "[encoded data removed]",
            "text/plain": [
              "<Figure size 432x288 with 1 Axes>"
            ]
          },
          "metadata": {
            "tags": [],
            "needs_background": "light"
          }
        }
      ]
    },
    {
      "cell_type": "markdown",
      "metadata": {
        "id": "hdPAHu_Cz--O"
      },
      "source": [
        "since i can see that there isn't overfitting - actually it's the same error rate... i shall remove the eigenvalues and see how it'll affect the results"
      ]
    },
    {
      "cell_type": "code",
      "metadata": {
        "id": "iDZGIFlruXC_",
        "colab": {
          "base_uri": "https://localhost:8080/",
          "height": 1000
        },
        "outputId": "62b8ffe7-4beb-4de7-80b1-0d9f4b21725e"
      },
      "source": [
        "RME_before = np.zeros([6])\n",
        "RME_before_std = np.zeros([6])\n",
        "RME = np.zeros([10,1])\n",
        "average_qbits = np.zeros([10,1])\n",
        "for i in range(6):\n",
        "  result_table_300000_first = result_table[i][:300000]\n",
        "  for column in result_table_300000_first.columns:\n",
        "    average_qbits[result_table_300000_first.columns.get_loc(column)] = result_table_300000_first[column].mean()\n",
        "    RME[result_table_300000_first.columns.get_loc(column)] = np.sqrt((simulation_data_input_table[i][0][result_table_300000_first.columns.get_loc(column)]-average_qbits[result_table_300000_first.columns.get_loc(column)])**2)\n",
        "  RME_before[i] = np.mean(RME)\n",
        "  RME_before_std[i] = np.std(RME)\n",
        "  print(simulation_data_input_table[i][0],\n",
        "  average_qbits, np.mean(RME))"
      ],
      "execution_count": null,
      "outputs": [
        {
          "output_type": "stream",
          "text": [
            "[1 1 1 1 1 1 1 1 1 1] [[0.97151   ]\n",
            " [0.77242667]\n",
            " [0.952     ]\n",
            " [0.85580667]\n",
            " [0.96107667]\n",
            " [0.97741   ]\n",
            " [0.61965333]\n",
            " [0.87427333]\n",
            " [0.95656333]\n",
            " [0.8341    ]] 0.12251799999999999\n",
            "[1 1 1 1 0 0 0 0 0 0] [[0.96940333]\n",
            " [0.86468333]\n",
            " [0.95148667]\n",
            " [0.81508   ]\n",
            " [0.03277333]\n",
            " [0.07858   ]\n",
            " [0.01521667]\n",
            " [0.02854333]\n",
            " [0.00614333]\n",
            " [0.05412333]] 0.061472666666666655\n",
            "[1 0 0 0 1 1 1 0 0 0] [[0.96539333]\n",
            " [0.03237667]\n",
            " [0.07783333]\n",
            " [0.01485333]\n",
            " [0.85493667]\n",
            " [0.95253   ]\n",
            " [0.80691   ]\n",
            " [0.02900333]\n",
            " [0.00623333]\n",
            " [0.05130333]] 0.06318333333333334\n",
            "[0 1 0 0 1 0 0 0 1 1] [[0.02953667]\n",
            " [0.95356   ]\n",
            " [0.0789    ]\n",
            " [0.01696667]\n",
            " [0.87897333]\n",
            " [0.03034667]\n",
            " [0.00723333]\n",
            " [0.05778333]\n",
            " [0.94192   ]\n",
            " [0.83849667]] 0.060781666666666664\n",
            "[0 0 1 0 0 1 0 1 0 1] [[0.02986   ]\n",
            " [0.07264333]\n",
            " [0.96577   ]\n",
            " [0.01380667]\n",
            " [0.02818667]\n",
            " [0.87593   ]\n",
            " [0.00554   ]\n",
            " [0.95024   ]\n",
            " [0.05617667]\n",
            " [0.83182333]] 0.058245000000000005\n",
            "[0 0 0 1 0 0 1 1 1 0] [[0.02958667]\n",
            " [0.07460333]\n",
            " [0.01569667]\n",
            " [0.95734333]\n",
            " [0.02854667]\n",
            " [0.00648333]\n",
            " [0.87898333]\n",
            " [0.94987333]\n",
            " [0.83528667]\n",
            " [0.05807   ]] 0.05915\n"
          ],
          "name": "stdout"
        }
      ]
    },
    {
      "cell_type": "code",
      "metadata": {
        "id": "3NbPqbXv0X-i",
        "colab": {
          "base_uri": "https://localhost:8080/",
          "height": 1000
        },
        "outputId": "ba502716-e73e-47c6-9f06-2bbc4ad79a27"
      },
      "source": [
        "RME_after = np.zeros([6])\n",
        "RME = np.zeros([10,1])\n",
        "average_qbits = np.zeros([10,1])\n",
        "Z=np.array([[0,0],[0,1]])\n",
        "for i in range(6):\n",
        "  result_table_300000_first = result_table[i][:300000]\n",
        "  for column in result_table_300000_last.columns:\n",
        "    ii = result_table_300000_first.columns.get_loc(column)\n",
        "    Sij=np.array([result_table_300000_first[column][result_table_300000_first[column] == 0 ].count(),result_table_300000_first[column][result_table_300000_first[column] == 1 ].count()])\n",
        "    average_qbits[ii] = np.dot(np.array([1,1]),np.dot(Z,np.dot(ten_qubits_reverse[ii],Sij)))/300000\n",
        "    RME[ii] = np.sqrt((simulation_data_input_table[i][0][ii]-average_qbits[ii])**2)\n",
        "  RME_after[i] = np.mean(RME)\n",
        "  print(simulation_data_input_table[i][0],\n",
        "  average_qbits, np.mean(RME))"
      ],
      "execution_count": null,
      "outputs": [
        {
          "output_type": "stream",
          "text": [
            "[1 1 1 1 1 1 1 1 1 1] [[1.00291885]\n",
            " [0.88660941]\n",
            " [0.99508435]\n",
            " [0.97645399]\n",
            " [1.072249  ]\n",
            " [1.04696595]\n",
            " [0.80391853]\n",
            " [0.94299984]\n",
            " [1.05099773]\n",
            " [0.99909437]] 0.05689710396908885\n",
            "[1 1 1 1 0 0 0 0 0 0] [[ 1.00067558e+00]\n",
            " [ 1.00140188e+00]\n",
            " [ 9.94513305e-01]\n",
            " [ 9.29145139e-01]\n",
            " [ 3.38261408e-03]\n",
            " [ 4.47246939e-02]\n",
            " [ 7.75392343e-03]\n",
            " [-1.11693746e-02]\n",
            " [-1.88064760e-02]\n",
            " [-4.81291570e-04]] 0.016473739294862594\n",
            "[1 0 0 0 1 1 1 0 0 0] [[ 9.96405572e-01]\n",
            " [-3.42147394e-02]\n",
            " [ 2.26451335e-02]\n",
            " [-4.13019937e-04]\n",
            " [ 9.50037357e-01]\n",
            " [ 1.01922348e+00]\n",
            " [ 1.05057320e+00]\n",
            " [-1.06503936e-02]\n",
            " [-1.87051709e-02]\n",
            " [-4.09525016e-03]] 0.021407745913733105\n",
            "[0 1 0 0 1 0 0 0 1 1] [[-1.32513485e-04]\n",
            " [ 1.11198871e+00]\n",
            " [ 2.38317133e-02]\n",
            " [ 2.04186731e-03]\n",
            " [ 9.77713639e-01]\n",
            " [-9.05793061e-03]\n",
            " [-2.76173150e-03]\n",
            " [ 2.18197682e-02]\n",
            " [ 1.03451502e+00]\n",
            " [ 1.00472890e+00]] 0.023316451328749856\n",
            "[0 0 1 0 0 1 0 1 0 1] [[ 2.11784945e-04]\n",
            " [ 1.58879823e-02]\n",
            " [ 1.01040235e+00]\n",
            " [-1.62884738e-03]\n",
            " [-1.89856252e-03]\n",
            " [ 9.33810575e-01]\n",
            " [-4.99219192e-03]\n",
            " [ 1.02870692e+00]\n",
            " [ 3.75116470e-02]\n",
            " [ 9.96176722e-01]] 0.017125299035565394\n",
            "[0 0 0 1 0 0 1 1 1 0] [[-7.92714598e-05]\n",
            " [ 1.83267571e-02]\n",
            " [-4.64768469e-02]\n",
            " [ 1.09440087e+00]\n",
            " [-1.48405156e-03]\n",
            " [-3.56667633e-02]\n",
            " [ 1.14550827e+00]\n",
            " [ 1.02829324e+00]\n",
            " [ 9.14487252e-01]\n",
            " [ 4.57654173e-03]] 0.046032536213804105\n"
          ],
          "name": "stdout"
        }
      ]
    },
    {
      "cell_type": "code",
      "metadata": {
        "id": "Fjd36G9k2C_t",
        "colab": {
          "base_uri": "https://localhost:8080/",
          "height": 286
        },
        "outputId": "76857bd1-35f4-4ed4-b1ae-1aaaaedbcc41"
      },
      "source": [
        "RME_compare = pd.DataFrame(data={'before RME': RME_before.T.tolist(), 'after RME': RME_after.T.tolist()})\n",
        "RME_compare.plot(style='o')\n",
        "plt.ylim([0,0.3])"
      ],
      "execution_count": null,
      "outputs": [
        {
          "output_type": "execute_result",
          "data": {
            "text/plain": [
              "(0.0, 0.3)"
            ]
          },
          "metadata": {
            "tags": []
          },
          "execution_count": 213
        },
        {
          "output_type": "display_data",
          "data": {
            "image/png": "[encoded data removed]",
            "text/plain": [
              "<Figure size 432x288 with 1 Axes>"
            ]
          },
          "metadata": {
            "tags": [],
            "needs_background": "light"
          }
        }
      ]
    },
    {
      "cell_type": "markdown",
      "metadata": {
        "id": "qpIYrs0TC2Ce"
      },
      "source": [
        "i don't have the over-fitting... weird.\n",
        "\\\n",
        "here i'm trying to mitigate the original measurements with the last measurements..."
      ]
    },
    {
      "cell_type": "code",
      "metadata": {
        "id": "NrKjVCGc14Bl",
        "colab": {
          "base_uri": "https://localhost:8080/",
          "height": 1000
        },
        "outputId": "7b6d804c-92b4-4ddb-8a9a-e2eb30b08896"
      },
      "source": [
        "RME_before = np.zeros([6])\n",
        "RME_before_std = np.zeros([6])\n",
        "RME = np.zeros([10,1])\n",
        "average_qbits = np.zeros([10,1])\n",
        "for i in range(6):\n",
        "  result_table_300000_first = result_table[i][300000:]\n",
        "  for column in result_table_300000_first.columns:\n",
        "    average_qbits[result_table_300000_first.columns.get_loc(column)] = result_table_300000_first[column].mean()\n",
        "    RME[result_table_300000_first.columns.get_loc(column)] = np.sqrt((simulation_data_input_table[i][0][result_table_300000_first.columns.get_loc(column)]-average_qbits[result_table_300000_first.columns.get_loc(column)])**2)\n",
        "  RME_before[i] = np.mean(RME)\n",
        "  RME_before_std[i] = np.std(RME)\n",
        "  print(simulation_data_input_table[i][0],\n",
        "  average_qbits, np.mean(RME))"
      ],
      "execution_count": null,
      "outputs": [
        {
          "output_type": "stream",
          "text": [
            "[1 1 1 1 1 1 1 1 1 1] [[0.97136]\n",
            " [0.75888]\n",
            " [0.95234]\n",
            " [0.84628]\n",
            " [0.96098]\n",
            " [0.97658]\n",
            " [0.54298]\n",
            " [0.87246]\n",
            " [0.9569 ]\n",
            " [0.83712]] 0.13241199999999997\n",
            "[1 1 1 1 0 0 0 0 0 0] [[0.96796]\n",
            " [0.8483 ]\n",
            " [0.95052]\n",
            " [0.81894]\n",
            " [0.03314]\n",
            " [0.08178]\n",
            " [0.01522]\n",
            " [0.02864]\n",
            " [0.00584]\n",
            " [0.04958]] 0.06284799999999999\n",
            "[1 0 0 0 1 1 1 0 0 0] [[0.96226]\n",
            " [0.03218]\n",
            " [0.07914]\n",
            " [0.01442]\n",
            " [0.84472]\n",
            " [0.95262]\n",
            " [0.80954]\n",
            " [0.02898]\n",
            " [0.0058 ]\n",
            " [0.05056]] 0.064194\n",
            "[0 1 0 0 1 0 0 0 1 1] [[0.032  ]\n",
            " [0.96112]\n",
            " [0.08264]\n",
            " [0.01748]\n",
            " [0.85358]\n",
            " [0.03002]\n",
            " [0.00772]\n",
            " [0.0567 ]\n",
            " [0.9395 ]\n",
            " [0.83488]] 0.063748\n",
            "[0 0 1 0 0 1 0 1 0 1] [[0.0323 ]\n",
            " [0.07208]\n",
            " [0.96606]\n",
            " [0.01266]\n",
            " [0.02708]\n",
            " [0.85368]\n",
            " [0.00528]\n",
            " [0.9511 ]\n",
            " [0.05544]\n",
            " [0.82898]] 0.060501999999999986\n",
            "[0 0 0 1 0 0 1 1 1 0] [[0.03208]\n",
            " [0.07588]\n",
            " [0.01512]\n",
            " [0.96576]\n",
            " [0.02774]\n",
            " [0.00648]\n",
            " [0.85366]\n",
            " [0.95038]\n",
            " [0.8323 ]\n",
            " [0.05568]] 0.061087999999999996\n"
          ],
          "name": "stdout"
        }
      ]
    },
    {
      "cell_type": "code",
      "metadata": {
        "id": "hmV_Aupw5L3e",
        "colab": {
          "base_uri": "https://localhost:8080/",
          "height": 1000
        },
        "outputId": "b127b87f-091c-4cbe-90fb-3004d5a79b32"
      },
      "source": [
        "RME_after = np.zeros([6])\n",
        "RME = np.zeros([10,1])\n",
        "average_qbits = np.zeros([10,1])\n",
        "Z=np.array([[0,0],[0,1]])\n",
        "for i in range(6):\n",
        "  result_table_300000_last = result_table[i][300000:]\n",
        "  for column in result_table_300000_last.columns:\n",
        "    ii = result_table_300000_last.columns.get_loc(column)\n",
        "    Sij=np.array([result_table_300000_last[column][result_table_300000_last[column] == 0 ].count(),result_table_300000_last[column][result_table_300000_last[column] == 1 ].count()])\n",
        "    average_qbits[ii] = np.dot(np.array([1,1]),np.dot(Z,np.dot(ten_qubits_reverse[ii],Sij)))/300000\n",
        "    RME[ii] = np.sqrt((simulation_data_input_table[i][0][ii]-average_qbits[ii])**2)\n",
        "  RME_after[i] = np.mean(RME)\n",
        "  print(simulation_data_input_table[i][0],\n",
        "  average_qbits, np.mean(RME))"
      ],
      "execution_count": null,
      "outputs": [
        {
          "output_type": "stream",
          "text": [
            "[1 1 1 1 1 1 1 1 1 1] [[1.00275912]\n",
            " [0.86975366]\n",
            " [0.99546257]\n",
            " [0.96538764]\n",
            " [1.0721377 ]\n",
            " [1.04604045]\n",
            " [0.70292433]\n",
            " [0.940954  ]\n",
            " [1.05137669]\n",
            " [1.00296464]] 0.07007964031902134\n",
            "[1 1 1 1 0 0 0 0 0 0] [[ 0.99913866]\n",
            " [ 0.98101654]\n",
            " [ 0.99343797]\n",
            " [ 0.93362899]\n",
            " [ 0.0038048 ]\n",
            " [ 0.04829286]\n",
            " [ 0.00775831]\n",
            " [-0.01106031]\n",
            " [-0.01914791]\n",
            " [-0.00630378]] 0.01891458186931843\n",
            "[1 0 0 0 1 1 1 0 0 0] [[ 9.93069071e-01]\n",
            " [-3.44594464e-02]\n",
            " [ 2.40986938e-02]\n",
            " [-9.16387986e-04]\n",
            " [ 9.38273690e-01]\n",
            " [ 1.01932383e+00]\n",
            " [ 1.05403744e+00]\n",
            " [-1.06767187e-02]\n",
            " [-1.91929362e-02]\n",
            " [-5.04786573e-03]] 0.023641056123705383\n",
            "[0 1 0 0 1 0 0 0 1 1] [[ 0.00249054]\n",
            " [ 1.12139541]\n",
            " [ 0.02799216]\n",
            " [ 0.00263816]\n",
            " [ 0.94847526]\n",
            " [-0.00942218]\n",
            " [-0.00212069]\n",
            " [ 0.02059753]\n",
            " [ 1.03179104]\n",
            " [ 1.00009398]] 0.02700664336229424\n",
            "[0 0 1 0 0 1 0 1 0 1] [[ 0.00281   ]\n",
            " [ 0.01518704]\n",
            " [ 1.01072495]\n",
            " [-0.00296084]\n",
            " [-0.0031728 ]\n",
            " [ 0.90900069]\n",
            " [-0.00533466]\n",
            " [ 1.02967719]\n",
            " [ 0.03668245]\n",
            " [ 0.99253286]] 0.020501637427904753\n",
            "[0 0 0 1 0 0 1 1 1 0] [[ 0.00257573]\n",
            " [ 0.01991528]\n",
            " [-0.04711834]\n",
            " [ 1.10417783]\n",
            " [-0.00241286]\n",
            " [-0.03567048]\n",
            " [ 1.11215235]\n",
            " [ 1.02886487]\n",
            " [ 0.91112542]\n",
            " [ 0.00151365]] 0.04432759671131673\n"
          ],
          "name": "stdout"
        }
      ]
    },
    {
      "cell_type": "code",
      "metadata": {
        "id": "D6l3mUYs568a",
        "colab": {
          "base_uri": "https://localhost:8080/",
          "height": 286
        },
        "outputId": "aadf2489-4e44-4e4f-a912-65d768259a0b"
      },
      "source": [
        "RME_compare = pd.DataFrame(data={'before RME': RME_before.T.tolist(), 'after RME': RME_after.T.tolist()})\n",
        "RME_compare.plot(style='o')\n",
        "plt.ylim([0,0.3])"
      ],
      "execution_count": null,
      "outputs": [
        {
          "output_type": "execute_result",
          "data": {
            "text/plain": [
              "(0.0, 0.3)"
            ]
          },
          "metadata": {
            "tags": []
          },
          "execution_count": 216
        },
        {
          "output_type": "display_data",
          "data": {
            "image/png": "[encoded data removed]",
            "text/plain": [
              "<Figure size 432x288 with 1 Axes>"
            ]
          },
          "metadata": {
            "tags": [],
            "needs_background": "light"
          }
        }
      ]
    },
    {
      "cell_type": "code",
      "metadata": {
        "id": "RxCyStBy57n4"
      },
      "source": [
        ""
      ],
      "execution_count": null,
      "outputs": []
    }
  ]
}